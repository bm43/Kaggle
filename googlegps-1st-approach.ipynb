{
 "cells": [
  {
   "cell_type": "code",
   "execution_count": 1,
   "id": "human-donna",
   "metadata": {
    "_cell_guid": "b1076dfc-b9ad-4769-8c92-a6c4dae69d19",
    "_uuid": "8f2839f25d086af736a60e9eeb907d3b93b6e0e5",
    "execution": {
     "iopub.execute_input": "2021-07-22T11:32:03.129523Z",
     "iopub.status.busy": "2021-07-22T11:32:03.124281Z",
     "iopub.status.idle": "2021-07-22T11:32:06.079472Z",
     "shell.execute_reply": "2021-07-22T11:32:06.078755Z",
     "shell.execute_reply.started": "2021-07-22T11:24:27.381475Z"
    },
    "papermill": {
     "duration": 2.994267,
     "end_time": "2021-07-22T11:32:06.079647",
     "exception": false,
     "start_time": "2021-07-22T11:32:03.085380",
     "status": "completed"
    },
    "tags": []
   },
   "outputs": [],
   "source": [
    "# This Python 3 environment comes with many helpful analytics libraries installed\n",
    "# It is defined by the kaggle/python Docker image: https://github.com/kaggle/docker-python\n",
    "# For example, here's several helpful packages to load\n",
    "\n",
    "import numpy as np # linear algebra\n",
    "import pandas as pd # data processing, CSV file I/O (e.g. pd.read_csv)\n",
    "# import library\n",
    "import os\n",
    "\n",
    "import matplotlib.pyplot as plt\n",
    "from matplotlib_venn import venn2, venn2_circles\n",
    "import seaborn as sns\n",
    "from tqdm.notebook import tqdm\n",
    "import pathlib\n",
    "import plotly\n",
    "import plotly.express as px\n",
    "# Input data files are available in the read-only \"../input/\" directory\n",
    "# For example, running this (by clicking run or pressing Shift+Enter) will list all files under the input directory\n",
    "\n",
    "import os\n",
    "for dirname, _, filenames in os.walk('/kaggle/input'):\n",
    "    for filename in filenames:\n",
    "        pass\n",
    "        #print(os.path.join(dirname, filename))\n",
    "        #if 'ground_truth.csv' in filename:\n",
    "            #print(filename)\n",
    "\n",
    "# You can write up to 20GB to the current directory (/kaggle/working/) that gets preserved as output when you create a version using \"Save & Run All\" \n",
    "# You can also write temporary files to /kaggle/temp/, but they won't be saved outside of the current session"
   ]
  },
  {
   "cell_type": "code",
   "execution_count": 2,
   "id": "nonprofit-composer",
   "metadata": {
    "execution": {
     "iopub.execute_input": "2021-07-22T11:32:06.118789Z",
     "iopub.status.busy": "2021-07-22T11:32:06.118128Z",
     "iopub.status.idle": "2021-07-22T11:32:06.840564Z",
     "shell.execute_reply": "2021-07-22T11:32:06.839989Z",
     "shell.execute_reply.started": "2021-07-22T11:24:27.64815Z"
    },
    "papermill": {
     "duration": 0.744267,
     "end_time": "2021-07-22T11:32:06.840706",
     "exception": false,
     "start_time": "2021-07-22T11:32:06.096439",
     "status": "completed"
    },
    "tags": []
   },
   "outputs": [],
   "source": [
    "# directory setting\n",
    "INPUT = '../input/google-smartphone-decimeter-challenge'\n",
    "base_train = pd.read_csv(INPUT + '/' + 'baseline_locations_train.csv')\n",
    "base_test = pd.read_csv(INPUT + '/' + 'baseline_locations_test.csv')\n",
    "sample_sub = pd.read_csv(INPUT + '/' + 'sample_submission.csv')"
   ]
  },
  {
   "cell_type": "code",
   "execution_count": 3,
   "id": "representative-forward",
   "metadata": {
    "execution": {
     "iopub.execute_input": "2021-07-22T11:32:06.881030Z",
     "iopub.status.busy": "2021-07-22T11:32:06.880336Z",
     "iopub.status.idle": "2021-07-22T11:32:07.902819Z",
     "shell.execute_reply": "2021-07-22T11:32:07.902072Z",
     "shell.execute_reply.started": "2021-07-22T11:24:28.006676Z"
    },
    "papermill": {
     "duration": 1.045022,
     "end_time": "2021-07-22T11:32:07.903039",
     "exception": false,
     "start_time": "2021-07-22T11:32:06.858017",
     "status": "completed"
    },
    "tags": []
   },
   "outputs": [
    {
     "name": "stdout",
     "output_type": "stream",
     "text": [
      "ground_truth.csv count :  73\n"
     ]
    },
    {
     "data": {
      "application/vnd.jupyter.widget-view+json": {
       "model_id": "7d8e2be787d14b21b4073309965495aa",
       "version_major": 2,
       "version_minor": 0
      },
      "text/plain": [
       "  0%|          | 0/73 [00:00<?, ?it/s]"
      ]
     },
     "metadata": {},
     "output_type": "display_data"
    },
    {
     "data": {
      "text/html": [
       "<div>\n",
       "<style scoped>\n",
       "    .dataframe tbody tr th:only-of-type {\n",
       "        vertical-align: middle;\n",
       "    }\n",
       "\n",
       "    .dataframe tbody tr th {\n",
       "        vertical-align: top;\n",
       "    }\n",
       "\n",
       "    .dataframe thead th {\n",
       "        text-align: right;\n",
       "    }\n",
       "</style>\n",
       "<table border=\"1\" class=\"dataframe\">\n",
       "  <thead>\n",
       "    <tr style=\"text-align: right;\">\n",
       "      <th></th>\n",
       "      <th>collectionName</th>\n",
       "      <th>phoneName</th>\n",
       "      <th>millisSinceGpsEpoch</th>\n",
       "      <th>latDeg</th>\n",
       "      <th>lngDeg</th>\n",
       "      <th>heightAboveWgs84EllipsoidM</th>\n",
       "      <th>timeSinceFirstFixSeconds</th>\n",
       "      <th>hDop</th>\n",
       "      <th>vDop</th>\n",
       "      <th>speedMps</th>\n",
       "      <th>courseDegree</th>\n",
       "    </tr>\n",
       "  </thead>\n",
       "  <tbody>\n",
       "    <tr>\n",
       "      <th>0</th>\n",
       "      <td>2020-07-17-US-MTV-1</td>\n",
       "      <td>Mi8</td>\n",
       "      <td>1279059935000</td>\n",
       "      <td>37.428281</td>\n",
       "      <td>-122.072541</td>\n",
       "      <td>34.71</td>\n",
       "      <td>669.0</td>\n",
       "      <td>0.8</td>\n",
       "      <td>0.0</td>\n",
       "      <td>0.0</td>\n",
       "      <td>242.8</td>\n",
       "    </tr>\n",
       "    <tr>\n",
       "      <th>1</th>\n",
       "      <td>2020-07-17-US-MTV-1</td>\n",
       "      <td>Mi8</td>\n",
       "      <td>1279059936000</td>\n",
       "      <td>37.428281</td>\n",
       "      <td>-122.072541</td>\n",
       "      <td>34.71</td>\n",
       "      <td>670.0</td>\n",
       "      <td>0.8</td>\n",
       "      <td>0.0</td>\n",
       "      <td>0.0</td>\n",
       "      <td>242.8</td>\n",
       "    </tr>\n",
       "    <tr>\n",
       "      <th>2</th>\n",
       "      <td>2020-07-17-US-MTV-1</td>\n",
       "      <td>Mi8</td>\n",
       "      <td>1279059937000</td>\n",
       "      <td>37.428281</td>\n",
       "      <td>-122.072541</td>\n",
       "      <td>34.71</td>\n",
       "      <td>671.0</td>\n",
       "      <td>0.8</td>\n",
       "      <td>0.0</td>\n",
       "      <td>0.0</td>\n",
       "      <td>242.8</td>\n",
       "    </tr>\n",
       "    <tr>\n",
       "      <th>3</th>\n",
       "      <td>2020-07-17-US-MTV-1</td>\n",
       "      <td>Mi8</td>\n",
       "      <td>1279059938000</td>\n",
       "      <td>37.428281</td>\n",
       "      <td>-122.072541</td>\n",
       "      <td>34.71</td>\n",
       "      <td>672.0</td>\n",
       "      <td>0.8</td>\n",
       "      <td>0.0</td>\n",
       "      <td>0.0</td>\n",
       "      <td>242.8</td>\n",
       "    </tr>\n",
       "    <tr>\n",
       "      <th>4</th>\n",
       "      <td>2020-07-17-US-MTV-1</td>\n",
       "      <td>Mi8</td>\n",
       "      <td>1279059939000</td>\n",
       "      <td>37.428281</td>\n",
       "      <td>-122.072541</td>\n",
       "      <td>34.71</td>\n",
       "      <td>673.0</td>\n",
       "      <td>0.8</td>\n",
       "      <td>0.0</td>\n",
       "      <td>0.0</td>\n",
       "      <td>242.8</td>\n",
       "    </tr>\n",
       "  </tbody>\n",
       "</table>\n",
       "</div>"
      ],
      "text/plain": [
       "        collectionName phoneName  millisSinceGpsEpoch     latDeg      lngDeg  \\\n",
       "0  2020-07-17-US-MTV-1       Mi8        1279059935000  37.428281 -122.072541   \n",
       "1  2020-07-17-US-MTV-1       Mi8        1279059936000  37.428281 -122.072541   \n",
       "2  2020-07-17-US-MTV-1       Mi8        1279059937000  37.428281 -122.072541   \n",
       "3  2020-07-17-US-MTV-1       Mi8        1279059938000  37.428281 -122.072541   \n",
       "4  2020-07-17-US-MTV-1       Mi8        1279059939000  37.428281 -122.072541   \n",
       "\n",
       "   heightAboveWgs84EllipsoidM  timeSinceFirstFixSeconds  hDop  vDop  speedMps  \\\n",
       "0                       34.71                     669.0   0.8   0.0       0.0   \n",
       "1                       34.71                     670.0   0.8   0.0       0.0   \n",
       "2                       34.71                     671.0   0.8   0.0       0.0   \n",
       "3                       34.71                     672.0   0.8   0.0       0.0   \n",
       "4                       34.71                     673.0   0.8   0.0       0.0   \n",
       "\n",
       "   courseDegree  \n",
       "0         242.8  \n",
       "1         242.8  \n",
       "2         242.8  \n",
       "3         242.8  \n",
       "4         242.8  "
      ]
     },
     "metadata": {},
     "output_type": "display_data"
    }
   ],
   "source": [
    "# ground_truth\n",
    "p = pathlib.Path(INPUT)\n",
    "gt_files = list(p.glob('train/*/*/ground_truth.csv'))\n",
    "print('ground_truth.csv count : ', len(gt_files))\n",
    "\n",
    "gts = []\n",
    "for gt_file in tqdm(gt_files):\n",
    "    gts.append(pd.read_csv(gt_file))\n",
    "ground_truth = pd.concat(gts)\n",
    "\n",
    "display(ground_truth.head())"
   ]
  },
  {
   "cell_type": "code",
   "execution_count": 4,
   "id": "precious-carolina",
   "metadata": {
    "execution": {
     "iopub.execute_input": "2021-07-22T11:32:07.948708Z",
     "iopub.status.busy": "2021-07-22T11:32:07.947625Z",
     "iopub.status.idle": "2021-07-22T11:32:07.951033Z",
     "shell.execute_reply": "2021-07-22T11:32:07.950484Z",
     "shell.execute_reply.started": "2021-07-22T11:24:28.62787Z"
    },
    "papermill": {
     "duration": 0.029599,
     "end_time": "2021-07-22T11:32:07.951179",
     "exception": false,
     "start_time": "2021-07-22T11:32:07.921580",
     "status": "completed"
    },
    "tags": []
   },
   "outputs": [],
   "source": [
    "def calc_haversine(lat1, lon1, lat2, lon2):\n",
    "    \"\"\"Calculates the great circle distance between two points\n",
    "    on the earth. Inputs are array-like and specified in decimal degrees.\n",
    "    \"\"\"\n",
    "    RADIUS = 6_367_000\n",
    "    lat1, lon1, lat2, lon2 = map(np.radians, [lat1, lon1, lat2, lon2])\n",
    "    dlat = lat2 - lat1\n",
    "    dlon = lon2 - lon1\n",
    "    a = np.sin(dlat/2)**2 + \\\n",
    "        np.cos(lat1) * np.cos(lat2) * np.sin(dlon/2)**2\n",
    "    dist = 2 * RADIUS * np.arcsin(a**0.5)\n",
    "    return dist"
   ]
  },
  {
   "cell_type": "code",
   "execution_count": 5,
   "id": "intensive-declaration",
   "metadata": {
    "execution": {
     "iopub.execute_input": "2021-07-22T11:32:07.997241Z",
     "iopub.status.busy": "2021-07-22T11:32:07.996538Z",
     "iopub.status.idle": "2021-07-22T11:32:07.999648Z",
     "shell.execute_reply": "2021-07-22T11:32:07.999122Z",
     "shell.execute_reply.started": "2021-07-22T11:24:28.637396Z"
    },
    "papermill": {
     "duration": 0.030625,
     "end_time": "2021-07-22T11:32:07.999815",
     "exception": false,
     "start_time": "2021-07-22T11:32:07.969190",
     "status": "completed"
    },
    "tags": []
   },
   "outputs": [],
   "source": [
    "def add_distance_diff(df):\n",
    "    df['latDeg_prev'] = df['latDeg'].shift(1)\n",
    "    df['latDeg_next'] = df['latDeg'].shift(-1)\n",
    "    df['lngDeg_prev'] = df['lngDeg'].shift(1)\n",
    "    df['lngDeg_next'] = df['lngDeg'].shift(-1)\n",
    "    df['phone_prev'] = df['phone'].shift(1)\n",
    "    df['phone_next'] = df['phone'].shift(-1)\n",
    "    \n",
    "    df['dist_prev'] = calc_haversine(df['latDeg'], df['lngDeg'], df['latDeg_prev'], df['lngDeg_prev'])\n",
    "    df['dist_next'] = calc_haversine(df['latDeg'], df['lngDeg'], df['latDeg_next'], df['lngDeg_next'])\n",
    "    \n",
    "    df.loc[df['phone']!=df['phone_prev'], ['latDeg_prev', 'lngDeg_prev', 'dist_prev']] = np.nan\n",
    "    df.loc[df['phone']!=df['phone_next'], ['latDeg_next', 'lngDeg_next', 'dist_next']] = np.nan\n",
    "    \n",
    "    return df"
   ]
  },
  {
   "cell_type": "code",
   "execution_count": 6,
   "id": "fancy-testament",
   "metadata": {
    "execution": {
     "iopub.execute_input": "2021-07-22T11:32:08.043671Z",
     "iopub.status.busy": "2021-07-22T11:32:08.042925Z",
     "iopub.status.idle": "2021-07-22T11:32:08.221753Z",
     "shell.execute_reply": "2021-07-22T11:32:08.221150Z",
     "shell.execute_reply.started": "2021-07-22T11:24:28.655676Z"
    },
    "papermill": {
     "duration": 0.203882,
     "end_time": "2021-07-22T11:32:08.221902",
     "exception": false,
     "start_time": "2021-07-22T11:32:08.018020",
     "status": "completed"
    },
    "tags": []
   },
   "outputs": [
    {
     "data": {
      "text/html": [
       "<div>\n",
       "<style scoped>\n",
       "    .dataframe tbody tr th:only-of-type {\n",
       "        vertical-align: middle;\n",
       "    }\n",
       "\n",
       "    .dataframe tbody tr th {\n",
       "        vertical-align: top;\n",
       "    }\n",
       "\n",
       "    .dataframe thead th {\n",
       "        text-align: right;\n",
       "    }\n",
       "</style>\n",
       "<table border=\"1\" class=\"dataframe\">\n",
       "  <thead>\n",
       "    <tr style=\"text-align: right;\">\n",
       "      <th></th>\n",
       "      <th>collectionName</th>\n",
       "      <th>phoneName</th>\n",
       "      <th>millisSinceGpsEpoch</th>\n",
       "      <th>latDeg</th>\n",
       "      <th>lngDeg</th>\n",
       "      <th>heightAboveWgs84EllipsoidM</th>\n",
       "      <th>phone</th>\n",
       "      <th>latDeg_prev</th>\n",
       "      <th>latDeg_next</th>\n",
       "      <th>lngDeg_prev</th>\n",
       "      <th>lngDeg_next</th>\n",
       "      <th>phone_prev</th>\n",
       "      <th>phone_next</th>\n",
       "      <th>dist_prev</th>\n",
       "      <th>dist_next</th>\n",
       "    </tr>\n",
       "  </thead>\n",
       "  <tbody>\n",
       "    <tr>\n",
       "      <th>0</th>\n",
       "      <td>2020-05-14-US-MTV-1</td>\n",
       "      <td>Pixel4</td>\n",
       "      <td>1273529463442</td>\n",
       "      <td>37.423575</td>\n",
       "      <td>-122.094091</td>\n",
       "      <td>-34.06</td>\n",
       "      <td>2020-05-14-US-MTV-1_Pixel4</td>\n",
       "      <td>NaN</td>\n",
       "      <td>37.423578</td>\n",
       "      <td>NaN</td>\n",
       "      <td>-122.094101</td>\n",
       "      <td>NaN</td>\n",
       "      <td>2020-05-14-US-MTV-1_Pixel4</td>\n",
       "      <td>NaN</td>\n",
       "      <td>0.888202</td>\n",
       "    </tr>\n",
       "    <tr>\n",
       "      <th>1</th>\n",
       "      <td>2020-05-14-US-MTV-1</td>\n",
       "      <td>Pixel4</td>\n",
       "      <td>1273529464442</td>\n",
       "      <td>37.423578</td>\n",
       "      <td>-122.094101</td>\n",
       "      <td>-33.29</td>\n",
       "      <td>2020-05-14-US-MTV-1_Pixel4</td>\n",
       "      <td>37.423575</td>\n",
       "      <td>37.423573</td>\n",
       "      <td>-122.094091</td>\n",
       "      <td>-122.094111</td>\n",
       "      <td>2020-05-14-US-MTV-1_Pixel4</td>\n",
       "      <td>2020-05-14-US-MTV-1_Pixel4</td>\n",
       "      <td>0.888202</td>\n",
       "      <td>1.001204</td>\n",
       "    </tr>\n",
       "    <tr>\n",
       "      <th>2</th>\n",
       "      <td>2020-05-14-US-MTV-1</td>\n",
       "      <td>Pixel4</td>\n",
       "      <td>1273529465442</td>\n",
       "      <td>37.423573</td>\n",
       "      <td>-122.094111</td>\n",
       "      <td>-30.99</td>\n",
       "      <td>2020-05-14-US-MTV-1_Pixel4</td>\n",
       "      <td>37.423578</td>\n",
       "      <td>37.423583</td>\n",
       "      <td>-122.094101</td>\n",
       "      <td>-122.094121</td>\n",
       "      <td>2020-05-14-US-MTV-1_Pixel4</td>\n",
       "      <td>2020-05-14-US-MTV-1_Pixel4</td>\n",
       "      <td>1.001204</td>\n",
       "      <td>1.370528</td>\n",
       "    </tr>\n",
       "    <tr>\n",
       "      <th>3</th>\n",
       "      <td>2020-05-14-US-MTV-1</td>\n",
       "      <td>Pixel4</td>\n",
       "      <td>1273529466442</td>\n",
       "      <td>37.423583</td>\n",
       "      <td>-122.094121</td>\n",
       "      <td>-32.83</td>\n",
       "      <td>2020-05-14-US-MTV-1_Pixel4</td>\n",
       "      <td>37.423573</td>\n",
       "      <td>37.423579</td>\n",
       "      <td>-122.094111</td>\n",
       "      <td>-122.094114</td>\n",
       "      <td>2020-05-14-US-MTV-1_Pixel4</td>\n",
       "      <td>2020-05-14-US-MTV-1_Pixel4</td>\n",
       "      <td>1.370528</td>\n",
       "      <td>0.741296</td>\n",
       "    </tr>\n",
       "    <tr>\n",
       "      <th>4</th>\n",
       "      <td>2020-05-14-US-MTV-1</td>\n",
       "      <td>Pixel4</td>\n",
       "      <td>1273529467442</td>\n",
       "      <td>37.423579</td>\n",
       "      <td>-122.094114</td>\n",
       "      <td>-34.49</td>\n",
       "      <td>2020-05-14-US-MTV-1_Pixel4</td>\n",
       "      <td>37.423583</td>\n",
       "      <td>37.423578</td>\n",
       "      <td>-122.094121</td>\n",
       "      <td>-122.094126</td>\n",
       "      <td>2020-05-14-US-MTV-1_Pixel4</td>\n",
       "      <td>2020-05-14-US-MTV-1_Pixel4</td>\n",
       "      <td>0.741296</td>\n",
       "      <td>1.111176</td>\n",
       "    </tr>\n",
       "  </tbody>\n",
       "</table>\n",
       "</div>"
      ],
      "text/plain": [
       "        collectionName phoneName  millisSinceGpsEpoch     latDeg      lngDeg  \\\n",
       "0  2020-05-14-US-MTV-1    Pixel4        1273529463442  37.423575 -122.094091   \n",
       "1  2020-05-14-US-MTV-1    Pixel4        1273529464442  37.423578 -122.094101   \n",
       "2  2020-05-14-US-MTV-1    Pixel4        1273529465442  37.423573 -122.094111   \n",
       "3  2020-05-14-US-MTV-1    Pixel4        1273529466442  37.423583 -122.094121   \n",
       "4  2020-05-14-US-MTV-1    Pixel4        1273529467442  37.423579 -122.094114   \n",
       "\n",
       "   heightAboveWgs84EllipsoidM                       phone  latDeg_prev  \\\n",
       "0                      -34.06  2020-05-14-US-MTV-1_Pixel4          NaN   \n",
       "1                      -33.29  2020-05-14-US-MTV-1_Pixel4    37.423575   \n",
       "2                      -30.99  2020-05-14-US-MTV-1_Pixel4    37.423578   \n",
       "3                      -32.83  2020-05-14-US-MTV-1_Pixel4    37.423573   \n",
       "4                      -34.49  2020-05-14-US-MTV-1_Pixel4    37.423583   \n",
       "\n",
       "   latDeg_next  lngDeg_prev  lngDeg_next                  phone_prev  \\\n",
       "0    37.423578          NaN  -122.094101                         NaN   \n",
       "1    37.423573  -122.094091  -122.094111  2020-05-14-US-MTV-1_Pixel4   \n",
       "2    37.423583  -122.094101  -122.094121  2020-05-14-US-MTV-1_Pixel4   \n",
       "3    37.423579  -122.094111  -122.094114  2020-05-14-US-MTV-1_Pixel4   \n",
       "4    37.423578  -122.094121  -122.094126  2020-05-14-US-MTV-1_Pixel4   \n",
       "\n",
       "                   phone_next  dist_prev  dist_next  \n",
       "0  2020-05-14-US-MTV-1_Pixel4        NaN   0.888202  \n",
       "1  2020-05-14-US-MTV-1_Pixel4   0.888202   1.001204  \n",
       "2  2020-05-14-US-MTV-1_Pixel4   1.001204   1.370528  \n",
       "3  2020-05-14-US-MTV-1_Pixel4   1.370528   0.741296  \n",
       "4  2020-05-14-US-MTV-1_Pixel4   0.741296   1.111176  "
      ]
     },
     "execution_count": 6,
     "metadata": {},
     "output_type": "execute_result"
    }
   ],
   "source": [
    "# reject outliers\n",
    "train_ro=add_distance_diff(base_train)\n",
    "th=50\n",
    "# remove if dist is higher than th... but why? apparently they are outliers\n",
    "train_ro.loc[((train_ro['dist_prev'] > th) & (train_ro['dist_next'] > th)), ['latDeg', 'lngDeg']] = np.nan\n",
    "train_ro.head()"
   ]
  },
  {
   "cell_type": "code",
   "execution_count": 7,
   "id": "integral-chaos",
   "metadata": {
    "execution": {
     "iopub.execute_input": "2021-07-22T11:32:08.265706Z",
     "iopub.status.busy": "2021-07-22T11:32:08.264887Z",
     "iopub.status.idle": "2021-07-22T11:32:17.743467Z",
     "shell.execute_reply": "2021-07-22T11:32:17.742809Z",
     "shell.execute_reply.started": "2021-07-22T11:24:28.784924Z"
    },
    "papermill": {
     "duration": 9.502834,
     "end_time": "2021-07-22T11:32:17.743636",
     "exception": false,
     "start_time": "2021-07-22T11:32:08.240802",
     "status": "completed"
    },
    "tags": []
   },
   "outputs": [
    {
     "name": "stdout",
     "output_type": "stream",
     "text": [
      "Collecting simdkalman\r\n",
      "  Downloading simdkalman-1.0.1-py2.py3-none-any.whl (11 kB)\r\n",
      "Requirement already satisfied: numpy>=1.9.0 in /opt/conda/lib/python3.7/site-packages (from simdkalman) (1.19.5)\r\n",
      "Installing collected packages: simdkalman\r\n",
      "Successfully installed simdkalman-1.0.1\r\n"
     ]
    }
   ],
   "source": [
    "!pip install simdkalman\n",
    "import simdkalman"
   ]
  },
  {
   "cell_type": "code",
   "execution_count": 8,
   "id": "involved-tours",
   "metadata": {
    "execution": {
     "iopub.execute_input": "2021-07-22T11:32:17.798462Z",
     "iopub.status.busy": "2021-07-22T11:32:17.797639Z",
     "iopub.status.idle": "2021-07-22T11:32:17.800816Z",
     "shell.execute_reply": "2021-07-22T11:32:17.800263Z",
     "shell.execute_reply.started": "2021-07-22T11:24:35.29398Z"
    },
    "papermill": {
     "duration": 0.037254,
     "end_time": "2021-07-22T11:32:17.800988",
     "exception": false,
     "start_time": "2021-07-22T11:32:17.763734",
     "status": "completed"
    },
    "tags": []
   },
   "outputs": [],
   "source": [
    "T = 1.0\n",
    "state_transition = np.array([[1, 0, T, 0, 0.5 * T ** 2, 0], [0, 1, 0, T, 0, 0.5 * T ** 2], [0, 0, 1, 0, T, 0],\n",
    "                             [0, 0, 0, 1, 0, T], [0, 0, 0, 0, 1, 0], [0, 0, 0, 0, 0, 1]])\n",
    "process_noise = np.diag([1e-5, 1e-5, 5e-6, 5e-6, 1e-6, 1e-6]) + np.ones((6, 6)) * 1e-9\n",
    "observation_model = np.array([[1, 0, 0, 0, 0, 0], [0, 1, 0, 0, 0, 0]])\n",
    "observation_noise = np.diag([5e-5, 5e-5]) + np.ones((2, 2)) * 1e-9\n",
    "\n",
    "kf = simdkalman.KalmanFilter(\n",
    "        state_transition = state_transition,\n",
    "        process_noise = process_noise,\n",
    "        observation_model = observation_model,\n",
    "        observation_noise = observation_noise)\n",
    "\n",
    "def apply_kf_smoothing(df, kf_=kf):\n",
    "    unique_paths = df[['collectionName', 'phoneName']].drop_duplicates().to_numpy()\n",
    "    for collection, phone in unique_paths:\n",
    "        cond = np.logical_and(df['collectionName'] == collection, df['phoneName'] == phone)\n",
    "        data = df[cond][['latDeg', 'lngDeg']].to_numpy()\n",
    "        data = data.reshape(1, len(data), 2)\n",
    "        smoothed = kf_.smooth(data)\n",
    "        df.loc[cond, 'latDeg'] = smoothed.states.mean[0, :, 0]\n",
    "        df.loc[cond, 'lngDeg'] = smoothed.states.mean[0, :, 1]\n",
    "    return df"
   ]
  },
  {
   "cell_type": "code",
   "execution_count": 9,
   "id": "parliamentary-glenn",
   "metadata": {
    "execution": {
     "iopub.execute_input": "2021-07-22T11:32:17.847130Z",
     "iopub.status.busy": "2021-07-22T11:32:17.846411Z",
     "iopub.status.idle": "2021-07-22T11:33:06.442305Z",
     "shell.execute_reply": "2021-07-22T11:33:06.443175Z",
     "shell.execute_reply.started": "2021-07-22T11:24:35.310324Z"
    },
    "papermill": {
     "duration": 48.622457,
     "end_time": "2021-07-22T11:33:06.443479",
     "exception": false,
     "start_time": "2021-07-22T11:32:17.821022",
     "status": "completed"
    },
    "tags": []
   },
   "outputs": [
    {
     "name": "stderr",
     "output_type": "stream",
     "text": [
      "/opt/conda/lib/python3.7/site-packages/pandas/core/indexing.py:1676: SettingWithCopyWarning: \n",
      "A value is trying to be set on a copy of a slice from a DataFrame.\n",
      "Try using .loc[row_indexer,col_indexer] = value instead\n",
      "\n",
      "See the caveats in the documentation: https://pandas.pydata.org/pandas-docs/stable/user_guide/indexing.html#returning-a-view-versus-a-copy\n",
      "  self._setitem_single_column(ilocs[0], value, pi)\n"
     ]
    }
   ],
   "source": [
    "cols = ['collectionName', 'phoneName', 'millisSinceGpsEpoch', 'latDeg', 'lngDeg']\n",
    "train_ro_kf = apply_kf_smoothing(train_ro[cols])"
   ]
  },
  {
   "cell_type": "code",
   "execution_count": 10,
   "id": "thrown-sound",
   "metadata": {
    "execution": {
     "iopub.execute_input": "2021-07-22T11:33:06.525558Z",
     "iopub.status.busy": "2021-07-22T11:33:06.524626Z",
     "iopub.status.idle": "2021-07-22T11:33:06.533818Z",
     "shell.execute_reply": "2021-07-22T11:33:06.534706Z",
     "shell.execute_reply.started": "2021-07-22T11:25:25.222235Z"
    },
    "papermill": {
     "duration": 0.05665,
     "end_time": "2021-07-22T11:33:06.534950",
     "exception": false,
     "start_time": "2021-07-22T11:33:06.478300",
     "status": "completed"
    },
    "tags": []
   },
   "outputs": [
    {
     "data": {
      "text/html": [
       "<div>\n",
       "<style scoped>\n",
       "    .dataframe tbody tr th:only-of-type {\n",
       "        vertical-align: middle;\n",
       "    }\n",
       "\n",
       "    .dataframe tbody tr th {\n",
       "        vertical-align: top;\n",
       "    }\n",
       "\n",
       "    .dataframe thead th {\n",
       "        text-align: right;\n",
       "    }\n",
       "</style>\n",
       "<table border=\"1\" class=\"dataframe\">\n",
       "  <thead>\n",
       "    <tr style=\"text-align: right;\">\n",
       "      <th></th>\n",
       "      <th>collectionName</th>\n",
       "      <th>phoneName</th>\n",
       "      <th>millisSinceGpsEpoch</th>\n",
       "      <th>latDeg</th>\n",
       "      <th>lngDeg</th>\n",
       "    </tr>\n",
       "  </thead>\n",
       "  <tbody>\n",
       "    <tr>\n",
       "      <th>0</th>\n",
       "      <td>2020-05-14-US-MTV-1</td>\n",
       "      <td>Pixel4</td>\n",
       "      <td>1273529463442</td>\n",
       "      <td>37.423549</td>\n",
       "      <td>-122.094006</td>\n",
       "    </tr>\n",
       "    <tr>\n",
       "      <th>1</th>\n",
       "      <td>2020-05-14-US-MTV-1</td>\n",
       "      <td>Pixel4</td>\n",
       "      <td>1273529464442</td>\n",
       "      <td>37.423564</td>\n",
       "      <td>-122.094063</td>\n",
       "    </tr>\n",
       "    <tr>\n",
       "      <th>2</th>\n",
       "      <td>2020-05-14-US-MTV-1</td>\n",
       "      <td>Pixel4</td>\n",
       "      <td>1273529465442</td>\n",
       "      <td>37.423573</td>\n",
       "      <td>-122.094098</td>\n",
       "    </tr>\n",
       "    <tr>\n",
       "      <th>3</th>\n",
       "      <td>2020-05-14-US-MTV-1</td>\n",
       "      <td>Pixel4</td>\n",
       "      <td>1273529466442</td>\n",
       "      <td>37.423578</td>\n",
       "      <td>-122.094116</td>\n",
       "    </tr>\n",
       "    <tr>\n",
       "      <th>4</th>\n",
       "      <td>2020-05-14-US-MTV-1</td>\n",
       "      <td>Pixel4</td>\n",
       "      <td>1273529467442</td>\n",
       "      <td>37.423579</td>\n",
       "      <td>-122.094123</td>\n",
       "    </tr>\n",
       "  </tbody>\n",
       "</table>\n",
       "</div>"
      ],
      "text/plain": [
       "        collectionName phoneName  millisSinceGpsEpoch     latDeg      lngDeg\n",
       "0  2020-05-14-US-MTV-1    Pixel4        1273529463442  37.423549 -122.094006\n",
       "1  2020-05-14-US-MTV-1    Pixel4        1273529464442  37.423564 -122.094063\n",
       "2  2020-05-14-US-MTV-1    Pixel4        1273529465442  37.423573 -122.094098\n",
       "3  2020-05-14-US-MTV-1    Pixel4        1273529466442  37.423578 -122.094116\n",
       "4  2020-05-14-US-MTV-1    Pixel4        1273529467442  37.423579 -122.094123"
      ]
     },
     "execution_count": 10,
     "metadata": {},
     "output_type": "execute_result"
    }
   ],
   "source": [
    "train_ro_kf.head()"
   ]
  },
  {
   "cell_type": "code",
   "execution_count": 11,
   "id": "extended-programming",
   "metadata": {
    "execution": {
     "iopub.execute_input": "2021-07-22T11:33:06.597590Z",
     "iopub.status.busy": "2021-07-22T11:33:06.596968Z",
     "iopub.status.idle": "2021-07-22T11:33:06.600022Z",
     "shell.execute_reply": "2021-07-22T11:33:06.599499Z",
     "shell.execute_reply.started": "2021-07-22T11:26:06.319906Z"
    },
    "papermill": {
     "duration": 0.035838,
     "end_time": "2021-07-22T11:33:06.600149",
     "exception": false,
     "start_time": "2021-07-22T11:33:06.564311",
     "status": "completed"
    },
    "tags": []
   },
   "outputs": [],
   "source": [
    "def make_lerp_data(df):\n",
    "    '''\n",
    "    Generate interpolated lat,lng values for different phone times in the same collection.\n",
    "    '''\n",
    "    org_columns = df.columns\n",
    "    \n",
    "    # Generate a combination of time x collection x phone and combine it with the original data (generate records to be interpolated)\n",
    "    time_list = df[['collectionName', 'millisSinceGpsEpoch']].drop_duplicates()\n",
    "    phone_list =df[['collectionName', 'phoneName']].drop_duplicates()\n",
    "    tmp = time_list.merge(phone_list, on='collectionName', how='outer')\n",
    "    \n",
    "    lerp_df = tmp.merge(df, on=['collectionName', 'millisSinceGpsEpoch', 'phoneName'], how='left')\n",
    "    lerp_df['phone'] = lerp_df['collectionName'] + '_' + lerp_df['phoneName']\n",
    "    lerp_df = lerp_df.sort_values(['phone', 'millisSinceGpsEpoch'])\n",
    "    \n",
    "    # linear interpolation\n",
    "    lerp_df['latDeg_prev'] = lerp_df['latDeg'].shift(1)\n",
    "    lerp_df['latDeg_next'] = lerp_df['latDeg'].shift(-1)\n",
    "    lerp_df['lngDeg_prev'] = lerp_df['lngDeg'].shift(1)\n",
    "    lerp_df['lngDeg_next'] = lerp_df['lngDeg'].shift(-1)\n",
    "    lerp_df['phone_prev'] = lerp_df['phone'].shift(1)\n",
    "    lerp_df['phone_next'] = lerp_df['phone'].shift(-1)\n",
    "    lerp_df['time_prev'] = lerp_df['millisSinceGpsEpoch'].shift(1)\n",
    "    lerp_df['time_next'] = lerp_df['millisSinceGpsEpoch'].shift(-1)\n",
    "    # Leave only records to be interpolated\n",
    "    lerp_df = lerp_df[(lerp_df['latDeg'].isnull())&(lerp_df['phone']==lerp_df['phone_prev'])&(lerp_df['phone']==lerp_df['phone_next'])].copy()\n",
    "    # calc lerp\n",
    "    lerp_df['latDeg'] = lerp_df['latDeg_prev'] + ((lerp_df['latDeg_next'] - lerp_df['latDeg_prev']) * ((lerp_df['millisSinceGpsEpoch'] - lerp_df['time_prev']) / (lerp_df['time_next'] - lerp_df['time_prev']))) \n",
    "    lerp_df['lngDeg'] = lerp_df['lngDeg_prev'] + ((lerp_df['lngDeg_next'] - lerp_df['lngDeg_prev']) * ((lerp_df['millisSinceGpsEpoch'] - lerp_df['time_prev']) / (lerp_df['time_next'] - lerp_df['time_prev']))) \n",
    "    \n",
    "    # Leave only the data that has a complete set of previous and next data.\n",
    "    lerp_df = lerp_df[~lerp_df['latDeg'].isnull()]\n",
    "    \n",
    "    return lerp_df[org_columns]\n",
    "#linear interpolation"
   ]
  },
  {
   "cell_type": "code",
   "execution_count": 12,
   "id": "located-hypothesis",
   "metadata": {
    "execution": {
     "iopub.execute_input": "2021-07-22T11:33:06.647245Z",
     "iopub.status.busy": "2021-07-22T11:33:06.646623Z",
     "iopub.status.idle": "2021-07-22T11:33:06.648971Z",
     "shell.execute_reply": "2021-07-22T11:33:06.649386Z",
     "shell.execute_reply.started": "2021-07-22T11:26:09.547718Z"
    },
    "papermill": {
     "duration": 0.028935,
     "end_time": "2021-07-22T11:33:06.649542",
     "exception": false,
     "start_time": "2021-07-22T11:33:06.620607",
     "status": "completed"
    },
    "tags": []
   },
   "outputs": [],
   "source": [
    "def calc_mean_pred(df, lerp_df):\n",
    "    '''\n",
    "    Make a prediction based on the average of the predictions of phones in the same collection.\n",
    "    '''\n",
    "    add_lerp = pd.concat([df, lerp_df])\n",
    "    mean_pred_result = add_lerp.groupby(['collectionName', 'millisSinceGpsEpoch'])[['latDeg', 'lngDeg']].mean().reset_index()\n",
    "    mean_pred_df = df[['collectionName', 'phoneName', 'millisSinceGpsEpoch']].copy()\n",
    "    mean_pred_df = mean_pred_df.merge(mean_pred_result[['collectionName', 'millisSinceGpsEpoch', 'latDeg', 'lngDeg']], on=['collectionName', 'millisSinceGpsEpoch'], how='left')\n",
    "    return mean_pred_df"
   ]
  },
  {
   "cell_type": "code",
   "execution_count": 13,
   "id": "mounted-liechtenstein",
   "metadata": {
    "execution": {
     "iopub.execute_input": "2021-07-22T11:33:06.705488Z",
     "iopub.status.busy": "2021-07-22T11:33:06.699459Z",
     "iopub.status.idle": "2021-07-22T11:33:07.834712Z",
     "shell.execute_reply": "2021-07-22T11:33:07.835234Z",
     "shell.execute_reply.started": "2021-07-22T11:26:13.770275Z"
    },
    "papermill": {
     "duration": 1.16544,
     "end_time": "2021-07-22T11:33:07.835415",
     "exception": false,
     "start_time": "2021-07-22T11:33:06.669975",
     "status": "completed"
    },
    "tags": []
   },
   "outputs": [],
   "source": [
    "train_lerp = make_lerp_data(train_ro_kf)\n",
    "train_mean_pred = calc_mean_pred(train_ro_kf, train_lerp)"
   ]
  },
  {
   "cell_type": "code",
   "execution_count": 14,
   "id": "unnecessary-accountability",
   "metadata": {
    "execution": {
     "iopub.execute_input": "2021-07-22T11:33:07.879441Z",
     "iopub.status.busy": "2021-07-22T11:33:07.878818Z",
     "iopub.status.idle": "2021-07-22T11:33:07.884100Z",
     "shell.execute_reply": "2021-07-22T11:33:07.884635Z",
     "shell.execute_reply.started": "2021-07-22T11:25:26.316025Z"
    },
    "papermill": {
     "duration": 0.028579,
     "end_time": "2021-07-22T11:33:07.884781",
     "exception": false,
     "start_time": "2021-07-22T11:33:07.856202",
     "status": "completed"
    },
    "tags": []
   },
   "outputs": [
    {
     "data": {
      "text/plain": [
       "'\\ndef visualize_trafic(df, center, zoom=9):\\n    fig = px.scatter_mapbox(df,\\n                            \\n                            # Here, plotly gets, (x,y) coordinates\\n                            lat=\"latDeg\",\\n                            lon=\"lngDeg\",\\n                            \\n                            #Here, plotly detects color of series\\n                            color=\"phoneName\",\\n                            labels=\"phoneName\",\\n                            \\n                            zoom=zoom,\\n                            center=center,\\n                            height=600,\\n                            width=800)\\n    fig.update_layout(mapbox_style=\\'stamen-terrain\\')\\n    fig.update_layout(margin={\"r\": 0, \"t\": 0, \"l\": 0, \"b\": 0})\\n    fig.update_layout(title_text=\"GPS trafic\")\\n    fig.show()\\n    \\ndef visualize_collection(df, collection):\\n    target_df = df[df[\\'collectionName\\']==collection].copy()\\n    lat_center = target_df[\\'latDeg\\'].mean()\\n    lng_center = target_df[\\'lngDeg\\'].mean()\\n    center = {\"lat\":lat_center, \"lon\":lng_center}\\n    \\n    visualize_trafic(target_df, center)\\n'"
      ]
     },
     "execution_count": 14,
     "metadata": {},
     "output_type": "execute_result"
    }
   ],
   "source": [
    "'''\n",
    "def visualize_trafic(df, center, zoom=9):\n",
    "    fig = px.scatter_mapbox(df,\n",
    "                            \n",
    "                            # Here, plotly gets, (x,y) coordinates\n",
    "                            lat=\"latDeg\",\n",
    "                            lon=\"lngDeg\",\n",
    "                            \n",
    "                            #Here, plotly detects color of series\n",
    "                            color=\"phoneName\",\n",
    "                            labels=\"phoneName\",\n",
    "                            \n",
    "                            zoom=zoom,\n",
    "                            center=center,\n",
    "                            height=600,\n",
    "                            width=800)\n",
    "    fig.update_layout(mapbox_style='stamen-terrain')\n",
    "    fig.update_layout(margin={\"r\": 0, \"t\": 0, \"l\": 0, \"b\": 0})\n",
    "    fig.update_layout(title_text=\"GPS trafic\")\n",
    "    fig.show()\n",
    "    \n",
    "def visualize_collection(df, collection):\n",
    "    target_df = df[df['collectionName']==collection].copy()\n",
    "    lat_center = target_df['latDeg'].mean()\n",
    "    lng_center = target_df['lngDeg'].mean()\n",
    "    center = {\"lat\":lat_center, \"lon\":lng_center}\n",
    "    \n",
    "    visualize_trafic(target_df, center)\n",
    "'''"
   ]
  },
  {
   "cell_type": "code",
   "execution_count": 15,
   "id": "international-april",
   "metadata": {
    "execution": {
     "iopub.execute_input": "2021-07-22T11:33:07.930388Z",
     "iopub.status.busy": "2021-07-22T11:33:07.929741Z",
     "iopub.status.idle": "2021-07-22T11:33:07.935558Z",
     "shell.execute_reply": "2021-07-22T11:33:07.935057Z",
     "shell.execute_reply.started": "2021-07-22T11:25:26.32531Z"
    },
    "papermill": {
     "duration": 0.030108,
     "end_time": "2021-07-22T11:33:07.935699",
     "exception": false,
     "start_time": "2021-07-22T11:33:07.905591",
     "status": "completed"
    },
    "tags": []
   },
   "outputs": [
    {
     "data": {
      "text/plain": [
       "\"\\ntmp1 = train_ro_kf.copy()\\ntmp2 = train_mean_pred.copy()\\ntmp2['phoneName'] = tmp2['phoneName'] + '_MEAN'\\ntmp3 = ground_truth.copy()\\ntmp3['phoneName'] = tmp3['phoneName'] + '_GT'\\ntmp = pd.concat([tmp1, tmp2, tmp3])\\nvisualize_collection(tmp, '2020-05-14-US-MTV-1')\\n\""
      ]
     },
     "execution_count": 15,
     "metadata": {},
     "output_type": "execute_result"
    }
   ],
   "source": [
    "'''\n",
    "tmp1 = train_ro_kf.copy()\n",
    "tmp2 = train_mean_pred.copy()\n",
    "tmp2['phoneName'] = tmp2['phoneName'] + '_MEAN'\n",
    "tmp3 = ground_truth.copy()\n",
    "tmp3['phoneName'] = tmp3['phoneName'] + '_GT'\n",
    "tmp = pd.concat([tmp1, tmp2, tmp3])\n",
    "visualize_collection(tmp, '2020-05-14-US-MTV-1')\n",
    "'''"
   ]
  },
  {
   "cell_type": "code",
   "execution_count": 16,
   "id": "involved-cotton",
   "metadata": {
    "execution": {
     "iopub.execute_input": "2021-07-22T11:33:07.982402Z",
     "iopub.status.busy": "2021-07-22T11:33:07.981768Z",
     "iopub.status.idle": "2021-07-22T11:33:07.986284Z",
     "shell.execute_reply": "2021-07-22T11:33:07.985782Z",
     "shell.execute_reply.started": "2021-07-22T11:27:21.107958Z"
    },
    "papermill": {
     "duration": 0.029525,
     "end_time": "2021-07-22T11:33:07.986432",
     "exception": false,
     "start_time": "2021-07-22T11:33:07.956907",
     "status": "completed"
    },
    "tags": []
   },
   "outputs": [],
   "source": [
    "def percentile50(x):\n",
    "    return np.percentile(x, 50)\n",
    "def percentile95(x):\n",
    "    return np.percentile(x, 95)"
   ]
  },
  {
   "cell_type": "code",
   "execution_count": 17,
   "id": "proof-empire",
   "metadata": {
    "execution": {
     "iopub.execute_input": "2021-07-22T11:33:08.035895Z",
     "iopub.status.busy": "2021-07-22T11:33:08.035258Z",
     "iopub.status.idle": "2021-07-22T11:33:08.037290Z",
     "shell.execute_reply": "2021-07-22T11:33:08.037753Z",
     "shell.execute_reply.started": "2021-07-22T11:27:23.524301Z"
    },
    "papermill": {
     "duration": 0.030921,
     "end_time": "2021-07-22T11:33:08.037965",
     "exception": false,
     "start_time": "2021-07-22T11:33:08.007044",
     "status": "completed"
    },
    "tags": []
   },
   "outputs": [],
   "source": [
    "def get_train_score(df, gt):\n",
    "    gt = gt.rename(columns={'latDeg':'latDeg_gt', 'lngDeg':'lngDeg_gt'})\n",
    "    df = df.merge(gt, on=['collectionName', 'phoneName', 'millisSinceGpsEpoch'], how='inner')\n",
    "    # calc_distance_error\n",
    "    df['err'] = calc_haversine(df['latDeg_gt'], df['lngDeg_gt'], df['latDeg'], df['lngDeg'])\n",
    "    # calc_evaluate_score\n",
    "    df['phone'] = df['collectionName'] + '_' + df['phoneName']\n",
    "    res = df.groupby('phone')['err'].agg([percentile50, percentile95])\n",
    "    res['p50_p90_mean'] = (res['percentile50'] + res['percentile95']) / 2 \n",
    "    score = res['p50_p90_mean'].mean()\n",
    "    return score"
   ]
  },
  {
   "cell_type": "code",
   "execution_count": 18,
   "id": "eleven-turning",
   "metadata": {
    "execution": {
     "iopub.execute_input": "2021-07-22T11:33:08.083419Z",
     "iopub.status.busy": "2021-07-22T11:33:08.082749Z",
     "iopub.status.idle": "2021-07-22T11:33:08.537144Z",
     "shell.execute_reply": "2021-07-22T11:33:08.537826Z",
     "shell.execute_reply.started": "2021-07-22T11:27:26.897948Z"
    },
    "papermill": {
     "duration": 0.478814,
     "end_time": "2021-07-22T11:33:08.538065",
     "exception": false,
     "start_time": "2021-07-22T11:33:08.059251",
     "status": "completed"
    },
    "tags": []
   },
   "outputs": [
    {
     "name": "stdout",
     "output_type": "stream",
     "text": [
      "kf + reject_outlier :  4.551122113162838\n",
      "+ phones_mean_pred :  4.1170641348709065\n"
     ]
    }
   ],
   "source": [
    "print('kf + reject_outlier : ', get_train_score(train_ro_kf, ground_truth))\n",
    "print('+ phones_mean_pred : ', get_train_score(train_mean_pred, ground_truth))"
   ]
  },
  {
   "cell_type": "code",
   "execution_count": 19,
   "id": "liberal-cover",
   "metadata": {
    "execution": {
     "iopub.execute_input": "2021-07-22T11:33:08.584895Z",
     "iopub.status.busy": "2021-07-22T11:33:08.584302Z",
     "iopub.status.idle": "2021-07-22T11:33:43.507990Z",
     "shell.execute_reply": "2021-07-22T11:33:43.508629Z",
     "shell.execute_reply.started": "2021-07-22T11:27:29.462392Z"
    },
    "papermill": {
     "duration": 34.948605,
     "end_time": "2021-07-22T11:33:43.508835",
     "exception": false,
     "start_time": "2021-07-22T11:33:08.560230",
     "status": "completed"
    },
    "tags": []
   },
   "outputs": [],
   "source": [
    "base_test = add_distance_diff(base_test)\n",
    "th = 50\n",
    "base_test.loc[((base_test['dist_prev'] > th) & (base_test['dist_next'] > th)), ['latDeg', 'lngDeg']] = np.nan\n",
    "\n",
    "test_kf = apply_kf_smoothing(base_test)\n",
    "\n",
    "test_lerp = make_lerp_data(test_kf)\n",
    "test_mean_pred = calc_mean_pred(test_kf, test_lerp)\n",
    "\n",
    "sample_sub['latDeg'] = test_mean_pred['latDeg']\n",
    "sample_sub['lngDeg'] = test_mean_pred['lngDeg']\n",
    "sample_sub.to_csv('submission.csv', index=False)"
   ]
  }
 ],
 "metadata": {
  "kernelspec": {
   "display_name": "Python 3",
   "language": "python",
   "name": "python3"
  },
  "language_info": {
   "codemirror_mode": {
    "name": "ipython",
    "version": 3
   },
   "file_extension": ".py",
   "mimetype": "text/x-python",
   "name": "python",
   "nbconvert_exporter": "python",
   "pygments_lexer": "ipython3",
   "version": "3.7.10"
  },
  "papermill": {
   "default_parameters": {},
   "duration": 110.935755,
   "end_time": "2021-07-22T11:33:45.244231",
   "environment_variables": {},
   "exception": null,
   "input_path": "__notebook__.ipynb",
   "output_path": "__notebook__.ipynb",
   "parameters": {},
   "start_time": "2021-07-22T11:31:54.308476",
   "version": "2.3.3"
  },
  "widgets": {
   "application/vnd.jupyter.widget-state+json": {
    "state": {
     "05e96f1284534490853bdb7c6e93de97": {
      "model_module": "@jupyter-widgets/base",
      "model_module_version": "1.2.0",
      "model_name": "LayoutModel",
      "state": {
       "_model_module": "@jupyter-widgets/base",
       "_model_module_version": "1.2.0",
       "_model_name": "LayoutModel",
       "_view_count": null,
       "_view_module": "@jupyter-widgets/base",
       "_view_module_version": "1.2.0",
       "_view_name": "LayoutView",
       "align_content": null,
       "align_items": null,
       "align_self": null,
       "border": null,
       "bottom": null,
       "display": null,
       "flex": null,
       "flex_flow": null,
       "grid_area": null,
       "grid_auto_columns": null,
       "grid_auto_flow": null,
       "grid_auto_rows": null,
       "grid_column": null,
       "grid_gap": null,
       "grid_row": null,
       "grid_template_areas": null,
       "grid_template_columns": null,
       "grid_template_rows": null,
       "height": null,
       "justify_content": null,
       "justify_items": null,
       "left": null,
       "margin": null,
       "max_height": null,
       "max_width": null,
       "min_height": null,
       "min_width": null,
       "object_fit": null,
       "object_position": null,
       "order": null,
       "overflow": null,
       "overflow_x": null,
       "overflow_y": null,
       "padding": null,
       "right": null,
       "top": null,
       "visibility": null,
       "width": null
      }
     },
     "0d94aad4662e4268b643143aa840adc0": {
      "model_module": "@jupyter-widgets/controls",
      "model_module_version": "1.5.0",
      "model_name": "FloatProgressModel",
      "state": {
       "_dom_classes": [],
       "_model_module": "@jupyter-widgets/controls",
       "_model_module_version": "1.5.0",
       "_model_name": "FloatProgressModel",
       "_view_count": null,
       "_view_module": "@jupyter-widgets/controls",
       "_view_module_version": "1.5.0",
       "_view_name": "ProgressView",
       "bar_style": "success",
       "description": "",
       "description_tooltip": null,
       "layout": "IPY_MODEL_05e96f1284534490853bdb7c6e93de97",
       "max": 73.0,
       "min": 0.0,
       "orientation": "horizontal",
       "style": "IPY_MODEL_30827cedfbd642a2a5f6ab142353fb64",
       "value": 73.0
      }
     },
     "30827cedfbd642a2a5f6ab142353fb64": {
      "model_module": "@jupyter-widgets/controls",
      "model_module_version": "1.5.0",
      "model_name": "ProgressStyleModel",
      "state": {
       "_model_module": "@jupyter-widgets/controls",
       "_model_module_version": "1.5.0",
       "_model_name": "ProgressStyleModel",
       "_view_count": null,
       "_view_module": "@jupyter-widgets/base",
       "_view_module_version": "1.2.0",
       "_view_name": "StyleView",
       "bar_color": null,
       "description_width": ""
      }
     },
     "508003b79689468c8e8a12f5f379acc4": {
      "model_module": "@jupyter-widgets/base",
      "model_module_version": "1.2.0",
      "model_name": "LayoutModel",
      "state": {
       "_model_module": "@jupyter-widgets/base",
       "_model_module_version": "1.2.0",
       "_model_name": "LayoutModel",
       "_view_count": null,
       "_view_module": "@jupyter-widgets/base",
       "_view_module_version": "1.2.0",
       "_view_name": "LayoutView",
       "align_content": null,
       "align_items": null,
       "align_self": null,
       "border": null,
       "bottom": null,
       "display": null,
       "flex": null,
       "flex_flow": null,
       "grid_area": null,
       "grid_auto_columns": null,
       "grid_auto_flow": null,
       "grid_auto_rows": null,
       "grid_column": null,
       "grid_gap": null,
       "grid_row": null,
       "grid_template_areas": null,
       "grid_template_columns": null,
       "grid_template_rows": null,
       "height": null,
       "justify_content": null,
       "justify_items": null,
       "left": null,
       "margin": null,
       "max_height": null,
       "max_width": null,
       "min_height": null,
       "min_width": null,
       "object_fit": null,
       "object_position": null,
       "order": null,
       "overflow": null,
       "overflow_x": null,
       "overflow_y": null,
       "padding": null,
       "right": null,
       "top": null,
       "visibility": null,
       "width": null
      }
     },
     "55174c3185754cce8c7b603fd6282fa5": {
      "model_module": "@jupyter-widgets/controls",
      "model_module_version": "1.5.0",
      "model_name": "DescriptionStyleModel",
      "state": {
       "_model_module": "@jupyter-widgets/controls",
       "_model_module_version": "1.5.0",
       "_model_name": "DescriptionStyleModel",
       "_view_count": null,
       "_view_module": "@jupyter-widgets/base",
       "_view_module_version": "1.2.0",
       "_view_name": "StyleView",
       "description_width": ""
      }
     },
     "58b8b4c196f847c3842ecab15e620481": {
      "model_module": "@jupyter-widgets/base",
      "model_module_version": "1.2.0",
      "model_name": "LayoutModel",
      "state": {
       "_model_module": "@jupyter-widgets/base",
       "_model_module_version": "1.2.0",
       "_model_name": "LayoutModel",
       "_view_count": null,
       "_view_module": "@jupyter-widgets/base",
       "_view_module_version": "1.2.0",
       "_view_name": "LayoutView",
       "align_content": null,
       "align_items": null,
       "align_self": null,
       "border": null,
       "bottom": null,
       "display": null,
       "flex": null,
       "flex_flow": null,
       "grid_area": null,
       "grid_auto_columns": null,
       "grid_auto_flow": null,
       "grid_auto_rows": null,
       "grid_column": null,
       "grid_gap": null,
       "grid_row": null,
       "grid_template_areas": null,
       "grid_template_columns": null,
       "grid_template_rows": null,
       "height": null,
       "justify_content": null,
       "justify_items": null,
       "left": null,
       "margin": null,
       "max_height": null,
       "max_width": null,
       "min_height": null,
       "min_width": null,
       "object_fit": null,
       "object_position": null,
       "order": null,
       "overflow": null,
       "overflow_x": null,
       "overflow_y": null,
       "padding": null,
       "right": null,
       "top": null,
       "visibility": null,
       "width": null
      }
     },
     "60aa7fa6adfc452eaff12795406f8e4d": {
      "model_module": "@jupyter-widgets/controls",
      "model_module_version": "1.5.0",
      "model_name": "HTMLModel",
      "state": {
       "_dom_classes": [],
       "_model_module": "@jupyter-widgets/controls",
       "_model_module_version": "1.5.0",
       "_model_name": "HTMLModel",
       "_view_count": null,
       "_view_module": "@jupyter-widgets/controls",
       "_view_module_version": "1.5.0",
       "_view_name": "HTMLView",
       "description": "",
       "description_tooltip": null,
       "layout": "IPY_MODEL_58b8b4c196f847c3842ecab15e620481",
       "placeholder": "​",
       "style": "IPY_MODEL_be32267276124944a8f06815fb045c85",
       "value": " 73/73 [00:00&lt;00:00, 78.34it/s]"
      }
     },
     "633b3bea5b7049fea1a6f4ff475a5c56": {
      "model_module": "@jupyter-widgets/base",
      "model_module_version": "1.2.0",
      "model_name": "LayoutModel",
      "state": {
       "_model_module": "@jupyter-widgets/base",
       "_model_module_version": "1.2.0",
       "_model_name": "LayoutModel",
       "_view_count": null,
       "_view_module": "@jupyter-widgets/base",
       "_view_module_version": "1.2.0",
       "_view_name": "LayoutView",
       "align_content": null,
       "align_items": null,
       "align_self": null,
       "border": null,
       "bottom": null,
       "display": null,
       "flex": null,
       "flex_flow": null,
       "grid_area": null,
       "grid_auto_columns": null,
       "grid_auto_flow": null,
       "grid_auto_rows": null,
       "grid_column": null,
       "grid_gap": null,
       "grid_row": null,
       "grid_template_areas": null,
       "grid_template_columns": null,
       "grid_template_rows": null,
       "height": null,
       "justify_content": null,
       "justify_items": null,
       "left": null,
       "margin": null,
       "max_height": null,
       "max_width": null,
       "min_height": null,
       "min_width": null,
       "object_fit": null,
       "object_position": null,
       "order": null,
       "overflow": null,
       "overflow_x": null,
       "overflow_y": null,
       "padding": null,
       "right": null,
       "top": null,
       "visibility": null,
       "width": null
      }
     },
     "7d8e2be787d14b21b4073309965495aa": {
      "model_module": "@jupyter-widgets/controls",
      "model_module_version": "1.5.0",
      "model_name": "HBoxModel",
      "state": {
       "_dom_classes": [],
       "_model_module": "@jupyter-widgets/controls",
       "_model_module_version": "1.5.0",
       "_model_name": "HBoxModel",
       "_view_count": null,
       "_view_module": "@jupyter-widgets/controls",
       "_view_module_version": "1.5.0",
       "_view_name": "HBoxView",
       "box_style": "",
       "children": [
        "IPY_MODEL_e9e75807cc0749dea96324167e9825ad",
        "IPY_MODEL_0d94aad4662e4268b643143aa840adc0",
        "IPY_MODEL_60aa7fa6adfc452eaff12795406f8e4d"
       ],
       "layout": "IPY_MODEL_508003b79689468c8e8a12f5f379acc4"
      }
     },
     "be32267276124944a8f06815fb045c85": {
      "model_module": "@jupyter-widgets/controls",
      "model_module_version": "1.5.0",
      "model_name": "DescriptionStyleModel",
      "state": {
       "_model_module": "@jupyter-widgets/controls",
       "_model_module_version": "1.5.0",
       "_model_name": "DescriptionStyleModel",
       "_view_count": null,
       "_view_module": "@jupyter-widgets/base",
       "_view_module_version": "1.2.0",
       "_view_name": "StyleView",
       "description_width": ""
      }
     },
     "e9e75807cc0749dea96324167e9825ad": {
      "model_module": "@jupyter-widgets/controls",
      "model_module_version": "1.5.0",
      "model_name": "HTMLModel",
      "state": {
       "_dom_classes": [],
       "_model_module": "@jupyter-widgets/controls",
       "_model_module_version": "1.5.0",
       "_model_name": "HTMLModel",
       "_view_count": null,
       "_view_module": "@jupyter-widgets/controls",
       "_view_module_version": "1.5.0",
       "_view_name": "HTMLView",
       "description": "",
       "description_tooltip": null,
       "layout": "IPY_MODEL_633b3bea5b7049fea1a6f4ff475a5c56",
       "placeholder": "​",
       "style": "IPY_MODEL_55174c3185754cce8c7b603fd6282fa5",
       "value": "100%"
      }
     }
    },
    "version_major": 2,
    "version_minor": 0
   }
  }
 },
 "nbformat": 4,
 "nbformat_minor": 5
}
